{
  "nbformat": 4,
  "nbformat_minor": 0,
  "metadata": {
    "colab": {
      "provenance": [],
      "gpuType": "T4"
    },
    "kernelspec": {
      "name": "python3",
      "display_name": "Python 3"
    },
    "language_info": {
      "name": "python"
    },
    "accelerator": "GPU",
    "gpuClass": "standard",
    "widgets": {
      "application/vnd.jupyter.widget-state+json": {
        "45e0ca3ac09145baa3cb6ab204ca35b8": {
          "model_module": "@jupyter-widgets/controls",
          "model_name": "HBoxModel",
          "model_module_version": "1.5.0",
          "state": {
            "_dom_classes": [],
            "_model_module": "@jupyter-widgets/controls",
            "_model_module_version": "1.5.0",
            "_model_name": "HBoxModel",
            "_view_count": null,
            "_view_module": "@jupyter-widgets/controls",
            "_view_module_version": "1.5.0",
            "_view_name": "HBoxView",
            "box_style": "",
            "children": [
              "IPY_MODEL_b86ae56f1adb4ab9933efd184f2f427e",
              "IPY_MODEL_4aefd0f60b2942e4ba5ddeb6977c1a2a",
              "IPY_MODEL_928524a0e26b4b0da04fcc132d291ea3"
            ],
            "layout": "IPY_MODEL_2ee73d8b6459494687d86c615d41042c"
          }
        },
        "b86ae56f1adb4ab9933efd184f2f427e": {
          "model_module": "@jupyter-widgets/controls",
          "model_name": "HTMLModel",
          "model_module_version": "1.5.0",
          "state": {
            "_dom_classes": [],
            "_model_module": "@jupyter-widgets/controls",
            "_model_module_version": "1.5.0",
            "_model_name": "HTMLModel",
            "_view_count": null,
            "_view_module": "@jupyter-widgets/controls",
            "_view_module_version": "1.5.0",
            "_view_name": "HTMLView",
            "description": "",
            "description_tooltip": null,
            "layout": "IPY_MODEL_0b6c599f1017447188b3c6b080c88674",
            "placeholder": "​",
            "style": "IPY_MODEL_04920addfb2941a58b503a390498a03e",
            "value": "100%"
          }
        },
        "4aefd0f60b2942e4ba5ddeb6977c1a2a": {
          "model_module": "@jupyter-widgets/controls",
          "model_name": "FloatProgressModel",
          "model_module_version": "1.5.0",
          "state": {
            "_dom_classes": [],
            "_model_module": "@jupyter-widgets/controls",
            "_model_module_version": "1.5.0",
            "_model_name": "FloatProgressModel",
            "_view_count": null,
            "_view_module": "@jupyter-widgets/controls",
            "_view_module_version": "1.5.0",
            "_view_name": "ProgressView",
            "bar_style": "success",
            "description": "",
            "description_tooltip": null,
            "layout": "IPY_MODEL_3bb225fcc98d469fb396840d98dd95cb",
            "max": 1776048343,
            "min": 0,
            "orientation": "horizontal",
            "style": "IPY_MODEL_e4ce10e3661e416b80ebcd76b423458b",
            "value": 1776048343
          }
        },
        "928524a0e26b4b0da04fcc132d291ea3": {
          "model_module": "@jupyter-widgets/controls",
          "model_name": "HTMLModel",
          "model_module_version": "1.5.0",
          "state": {
            "_dom_classes": [],
            "_model_module": "@jupyter-widgets/controls",
            "_model_module_version": "1.5.0",
            "_model_name": "HTMLModel",
            "_view_count": null,
            "_view_module": "@jupyter-widgets/controls",
            "_view_module_version": "1.5.0",
            "_view_name": "HTMLView",
            "description": "",
            "description_tooltip": null,
            "layout": "IPY_MODEL_c297edd91304459eac498458caf92523",
            "placeholder": "​",
            "style": "IPY_MODEL_19edb09510544910a6f8cf8e944d6d92",
            "value": " 1.78G/1.78G [02:07&lt;00:00, 15.8MiB/s]"
          }
        },
        "2ee73d8b6459494687d86c615d41042c": {
          "model_module": "@jupyter-widgets/base",
          "model_name": "LayoutModel",
          "model_module_version": "1.2.0",
          "state": {
            "_model_module": "@jupyter-widgets/base",
            "_model_module_version": "1.2.0",
            "_model_name": "LayoutModel",
            "_view_count": null,
            "_view_module": "@jupyter-widgets/base",
            "_view_module_version": "1.2.0",
            "_view_name": "LayoutView",
            "align_content": null,
            "align_items": null,
            "align_self": null,
            "border": null,
            "bottom": null,
            "display": null,
            "flex": null,
            "flex_flow": null,
            "grid_area": null,
            "grid_auto_columns": null,
            "grid_auto_flow": null,
            "grid_auto_rows": null,
            "grid_column": null,
            "grid_gap": null,
            "grid_row": null,
            "grid_template_areas": null,
            "grid_template_columns": null,
            "grid_template_rows": null,
            "height": null,
            "justify_content": null,
            "justify_items": null,
            "left": null,
            "margin": null,
            "max_height": null,
            "max_width": null,
            "min_height": null,
            "min_width": null,
            "object_fit": null,
            "object_position": null,
            "order": null,
            "overflow": null,
            "overflow_x": null,
            "overflow_y": null,
            "padding": null,
            "right": null,
            "top": null,
            "visibility": null,
            "width": null
          }
        },
        "0b6c599f1017447188b3c6b080c88674": {
          "model_module": "@jupyter-widgets/base",
          "model_name": "LayoutModel",
          "model_module_version": "1.2.0",
          "state": {
            "_model_module": "@jupyter-widgets/base",
            "_model_module_version": "1.2.0",
            "_model_name": "LayoutModel",
            "_view_count": null,
            "_view_module": "@jupyter-widgets/base",
            "_view_module_version": "1.2.0",
            "_view_name": "LayoutView",
            "align_content": null,
            "align_items": null,
            "align_self": null,
            "border": null,
            "bottom": null,
            "display": null,
            "flex": null,
            "flex_flow": null,
            "grid_area": null,
            "grid_auto_columns": null,
            "grid_auto_flow": null,
            "grid_auto_rows": null,
            "grid_column": null,
            "grid_gap": null,
            "grid_row": null,
            "grid_template_areas": null,
            "grid_template_columns": null,
            "grid_template_rows": null,
            "height": null,
            "justify_content": null,
            "justify_items": null,
            "left": null,
            "margin": null,
            "max_height": null,
            "max_width": null,
            "min_height": null,
            "min_width": null,
            "object_fit": null,
            "object_position": null,
            "order": null,
            "overflow": null,
            "overflow_x": null,
            "overflow_y": null,
            "padding": null,
            "right": null,
            "top": null,
            "visibility": null,
            "width": null
          }
        },
        "04920addfb2941a58b503a390498a03e": {
          "model_module": "@jupyter-widgets/controls",
          "model_name": "DescriptionStyleModel",
          "model_module_version": "1.5.0",
          "state": {
            "_model_module": "@jupyter-widgets/controls",
            "_model_module_version": "1.5.0",
            "_model_name": "DescriptionStyleModel",
            "_view_count": null,
            "_view_module": "@jupyter-widgets/base",
            "_view_module_version": "1.2.0",
            "_view_name": "StyleView",
            "description_width": ""
          }
        },
        "3bb225fcc98d469fb396840d98dd95cb": {
          "model_module": "@jupyter-widgets/base",
          "model_name": "LayoutModel",
          "model_module_version": "1.2.0",
          "state": {
            "_model_module": "@jupyter-widgets/base",
            "_model_module_version": "1.2.0",
            "_model_name": "LayoutModel",
            "_view_count": null,
            "_view_module": "@jupyter-widgets/base",
            "_view_module_version": "1.2.0",
            "_view_name": "LayoutView",
            "align_content": null,
            "align_items": null,
            "align_self": null,
            "border": null,
            "bottom": null,
            "display": null,
            "flex": null,
            "flex_flow": null,
            "grid_area": null,
            "grid_auto_columns": null,
            "grid_auto_flow": null,
            "grid_auto_rows": null,
            "grid_column": null,
            "grid_gap": null,
            "grid_row": null,
            "grid_template_areas": null,
            "grid_template_columns": null,
            "grid_template_rows": null,
            "height": null,
            "justify_content": null,
            "justify_items": null,
            "left": null,
            "margin": null,
            "max_height": null,
            "max_width": null,
            "min_height": null,
            "min_width": null,
            "object_fit": null,
            "object_position": null,
            "order": null,
            "overflow": null,
            "overflow_x": null,
            "overflow_y": null,
            "padding": null,
            "right": null,
            "top": null,
            "visibility": null,
            "width": null
          }
        },
        "e4ce10e3661e416b80ebcd76b423458b": {
          "model_module": "@jupyter-widgets/controls",
          "model_name": "ProgressStyleModel",
          "model_module_version": "1.5.0",
          "state": {
            "_model_module": "@jupyter-widgets/controls",
            "_model_module_version": "1.5.0",
            "_model_name": "ProgressStyleModel",
            "_view_count": null,
            "_view_module": "@jupyter-widgets/base",
            "_view_module_version": "1.2.0",
            "_view_name": "StyleView",
            "bar_color": null,
            "description_width": ""
          }
        },
        "c297edd91304459eac498458caf92523": {
          "model_module": "@jupyter-widgets/base",
          "model_name": "LayoutModel",
          "model_module_version": "1.2.0",
          "state": {
            "_model_module": "@jupyter-widgets/base",
            "_model_module_version": "1.2.0",
            "_model_name": "LayoutModel",
            "_view_count": null,
            "_view_module": "@jupyter-widgets/base",
            "_view_module_version": "1.2.0",
            "_view_name": "LayoutView",
            "align_content": null,
            "align_items": null,
            "align_self": null,
            "border": null,
            "bottom": null,
            "display": null,
            "flex": null,
            "flex_flow": null,
            "grid_area": null,
            "grid_auto_columns": null,
            "grid_auto_flow": null,
            "grid_auto_rows": null,
            "grid_column": null,
            "grid_gap": null,
            "grid_row": null,
            "grid_template_areas": null,
            "grid_template_columns": null,
            "grid_template_rows": null,
            "height": null,
            "justify_content": null,
            "justify_items": null,
            "left": null,
            "margin": null,
            "max_height": null,
            "max_width": null,
            "min_height": null,
            "min_width": null,
            "object_fit": null,
            "object_position": null,
            "order": null,
            "overflow": null,
            "overflow_x": null,
            "overflow_y": null,
            "padding": null,
            "right": null,
            "top": null,
            "visibility": null,
            "width": null
          }
        },
        "19edb09510544910a6f8cf8e944d6d92": {
          "model_module": "@jupyter-widgets/controls",
          "model_name": "DescriptionStyleModel",
          "model_module_version": "1.5.0",
          "state": {
            "_model_module": "@jupyter-widgets/controls",
            "_model_module_version": "1.5.0",
            "_model_name": "DescriptionStyleModel",
            "_view_count": null,
            "_view_module": "@jupyter-widgets/base",
            "_view_module_version": "1.2.0",
            "_view_name": "StyleView",
            "description_width": ""
          }
        },
        "d50b136efb28492ebc248030a9c05aa8": {
          "model_module": "@jupyter-widgets/controls",
          "model_name": "HBoxModel",
          "model_module_version": "1.5.0",
          "state": {
            "_dom_classes": [],
            "_model_module": "@jupyter-widgets/controls",
            "_model_module_version": "1.5.0",
            "_model_name": "HBoxModel",
            "_view_count": null,
            "_view_module": "@jupyter-widgets/controls",
            "_view_module_version": "1.5.0",
            "_view_name": "HBoxView",
            "box_style": "",
            "children": [
              "IPY_MODEL_59b66794674a402687db28515674b2b3",
              "IPY_MODEL_579d373484944c5a8b68bff6aad78d71",
              "IPY_MODEL_98f750249bad4f7d92aee19e053c2039"
            ],
            "layout": "IPY_MODEL_42c813c037fb4ca693004b477d218c66"
          }
        },
        "59b66794674a402687db28515674b2b3": {
          "model_module": "@jupyter-widgets/controls",
          "model_name": "HTMLModel",
          "model_module_version": "1.5.0",
          "state": {
            "_dom_classes": [],
            "_model_module": "@jupyter-widgets/controls",
            "_model_module_version": "1.5.0",
            "_model_name": "HTMLModel",
            "_view_count": null,
            "_view_module": "@jupyter-widgets/controls",
            "_view_module_version": "1.5.0",
            "_view_name": "HTMLView",
            "description": "",
            "description_tooltip": null,
            "layout": "IPY_MODEL_72792aff25664c2a9f71d7a4858b87a4",
            "placeholder": "​",
            "style": "IPY_MODEL_6bc40239debd4112bc4c4c6d602b1061",
            "value": "100%"
          }
        },
        "579d373484944c5a8b68bff6aad78d71": {
          "model_module": "@jupyter-widgets/controls",
          "model_name": "FloatProgressModel",
          "model_module_version": "1.5.0",
          "state": {
            "_dom_classes": [],
            "_model_module": "@jupyter-widgets/controls",
            "_model_module_version": "1.5.0",
            "_model_name": "FloatProgressModel",
            "_view_count": null,
            "_view_module": "@jupyter-widgets/controls",
            "_view_module_version": "1.5.0",
            "_view_name": "ProgressView",
            "bar_style": "success",
            "description": "",
            "description_tooltip": null,
            "layout": "IPY_MODEL_ed23fbf95f69423bad06fc5b682840fb",
            "max": 1262868003,
            "min": 0,
            "orientation": "horizontal",
            "style": "IPY_MODEL_9a298f2dee41488489688c3a7197e6af",
            "value": 1262868003
          }
        },
        "98f750249bad4f7d92aee19e053c2039": {
          "model_module": "@jupyter-widgets/controls",
          "model_name": "HTMLModel",
          "model_module_version": "1.5.0",
          "state": {
            "_dom_classes": [],
            "_model_module": "@jupyter-widgets/controls",
            "_model_module_version": "1.5.0",
            "_model_name": "HTMLModel",
            "_view_count": null,
            "_view_module": "@jupyter-widgets/controls",
            "_view_module_version": "1.5.0",
            "_view_name": "HTMLView",
            "description": "",
            "description_tooltip": null,
            "layout": "IPY_MODEL_e6a9c74b58dc4eedb8ead5fb0e8fb070",
            "placeholder": "​",
            "style": "IPY_MODEL_e9daa6151cd5450da82c6da72887a5e3",
            "value": " 1.26G/1.26G [00:43&lt;00:00, 44.5MiB/s]"
          }
        },
        "42c813c037fb4ca693004b477d218c66": {
          "model_module": "@jupyter-widgets/base",
          "model_name": "LayoutModel",
          "model_module_version": "1.2.0",
          "state": {
            "_model_module": "@jupyter-widgets/base",
            "_model_module_version": "1.2.0",
            "_model_name": "LayoutModel",
            "_view_count": null,
            "_view_module": "@jupyter-widgets/base",
            "_view_module_version": "1.2.0",
            "_view_name": "LayoutView",
            "align_content": null,
            "align_items": null,
            "align_self": null,
            "border": null,
            "bottom": null,
            "display": null,
            "flex": null,
            "flex_flow": null,
            "grid_area": null,
            "grid_auto_columns": null,
            "grid_auto_flow": null,
            "grid_auto_rows": null,
            "grid_column": null,
            "grid_gap": null,
            "grid_row": null,
            "grid_template_areas": null,
            "grid_template_columns": null,
            "grid_template_rows": null,
            "height": null,
            "justify_content": null,
            "justify_items": null,
            "left": null,
            "margin": null,
            "max_height": null,
            "max_width": null,
            "min_height": null,
            "min_width": null,
            "object_fit": null,
            "object_position": null,
            "order": null,
            "overflow": null,
            "overflow_x": null,
            "overflow_y": null,
            "padding": null,
            "right": null,
            "top": null,
            "visibility": null,
            "width": null
          }
        },
        "72792aff25664c2a9f71d7a4858b87a4": {
          "model_module": "@jupyter-widgets/base",
          "model_name": "LayoutModel",
          "model_module_version": "1.2.0",
          "state": {
            "_model_module": "@jupyter-widgets/base",
            "_model_module_version": "1.2.0",
            "_model_name": "LayoutModel",
            "_view_count": null,
            "_view_module": "@jupyter-widgets/base",
            "_view_module_version": "1.2.0",
            "_view_name": "LayoutView",
            "align_content": null,
            "align_items": null,
            "align_self": null,
            "border": null,
            "bottom": null,
            "display": null,
            "flex": null,
            "flex_flow": null,
            "grid_area": null,
            "grid_auto_columns": null,
            "grid_auto_flow": null,
            "grid_auto_rows": null,
            "grid_column": null,
            "grid_gap": null,
            "grid_row": null,
            "grid_template_areas": null,
            "grid_template_columns": null,
            "grid_template_rows": null,
            "height": null,
            "justify_content": null,
            "justify_items": null,
            "left": null,
            "margin": null,
            "max_height": null,
            "max_width": null,
            "min_height": null,
            "min_width": null,
            "object_fit": null,
            "object_position": null,
            "order": null,
            "overflow": null,
            "overflow_x": null,
            "overflow_y": null,
            "padding": null,
            "right": null,
            "top": null,
            "visibility": null,
            "width": null
          }
        },
        "6bc40239debd4112bc4c4c6d602b1061": {
          "model_module": "@jupyter-widgets/controls",
          "model_name": "DescriptionStyleModel",
          "model_module_version": "1.5.0",
          "state": {
            "_model_module": "@jupyter-widgets/controls",
            "_model_module_version": "1.5.0",
            "_model_name": "DescriptionStyleModel",
            "_view_count": null,
            "_view_module": "@jupyter-widgets/base",
            "_view_module_version": "1.2.0",
            "_view_name": "StyleView",
            "description_width": ""
          }
        },
        "ed23fbf95f69423bad06fc5b682840fb": {
          "model_module": "@jupyter-widgets/base",
          "model_name": "LayoutModel",
          "model_module_version": "1.2.0",
          "state": {
            "_model_module": "@jupyter-widgets/base",
            "_model_module_version": "1.2.0",
            "_model_name": "LayoutModel",
            "_view_count": null,
            "_view_module": "@jupyter-widgets/base",
            "_view_module_version": "1.2.0",
            "_view_name": "LayoutView",
            "align_content": null,
            "align_items": null,
            "align_self": null,
            "border": null,
            "bottom": null,
            "display": null,
            "flex": null,
            "flex_flow": null,
            "grid_area": null,
            "grid_auto_columns": null,
            "grid_auto_flow": null,
            "grid_auto_rows": null,
            "grid_column": null,
            "grid_gap": null,
            "grid_row": null,
            "grid_template_areas": null,
            "grid_template_columns": null,
            "grid_template_rows": null,
            "height": null,
            "justify_content": null,
            "justify_items": null,
            "left": null,
            "margin": null,
            "max_height": null,
            "max_width": null,
            "min_height": null,
            "min_width": null,
            "object_fit": null,
            "object_position": null,
            "order": null,
            "overflow": null,
            "overflow_x": null,
            "overflow_y": null,
            "padding": null,
            "right": null,
            "top": null,
            "visibility": null,
            "width": null
          }
        },
        "9a298f2dee41488489688c3a7197e6af": {
          "model_module": "@jupyter-widgets/controls",
          "model_name": "ProgressStyleModel",
          "model_module_version": "1.5.0",
          "state": {
            "_model_module": "@jupyter-widgets/controls",
            "_model_module_version": "1.5.0",
            "_model_name": "ProgressStyleModel",
            "_view_count": null,
            "_view_module": "@jupyter-widgets/base",
            "_view_module_version": "1.2.0",
            "_view_name": "StyleView",
            "bar_color": null,
            "description_width": ""
          }
        },
        "e6a9c74b58dc4eedb8ead5fb0e8fb070": {
          "model_module": "@jupyter-widgets/base",
          "model_name": "LayoutModel",
          "model_module_version": "1.2.0",
          "state": {
            "_model_module": "@jupyter-widgets/base",
            "_model_module_version": "1.2.0",
            "_model_name": "LayoutModel",
            "_view_count": null,
            "_view_module": "@jupyter-widgets/base",
            "_view_module_version": "1.2.0",
            "_view_name": "LayoutView",
            "align_content": null,
            "align_items": null,
            "align_self": null,
            "border": null,
            "bottom": null,
            "display": null,
            "flex": null,
            "flex_flow": null,
            "grid_area": null,
            "grid_auto_columns": null,
            "grid_auto_flow": null,
            "grid_auto_rows": null,
            "grid_column": null,
            "grid_gap": null,
            "grid_row": null,
            "grid_template_areas": null,
            "grid_template_columns": null,
            "grid_template_rows": null,
            "height": null,
            "justify_content": null,
            "justify_items": null,
            "left": null,
            "margin": null,
            "max_height": null,
            "max_width": null,
            "min_height": null,
            "min_width": null,
            "object_fit": null,
            "object_position": null,
            "order": null,
            "overflow": null,
            "overflow_x": null,
            "overflow_y": null,
            "padding": null,
            "right": null,
            "top": null,
            "visibility": null,
            "width": null
          }
        },
        "e9daa6151cd5450da82c6da72887a5e3": {
          "model_module": "@jupyter-widgets/controls",
          "model_name": "DescriptionStyleModel",
          "model_module_version": "1.5.0",
          "state": {
            "_model_module": "@jupyter-widgets/controls",
            "_model_module_version": "1.5.0",
            "_model_name": "DescriptionStyleModel",
            "_view_count": null,
            "_view_module": "@jupyter-widgets/base",
            "_view_module_version": "1.2.0",
            "_view_name": "StyleView",
            "description_width": ""
          }
        },
        "b33322dd770d4b2aba83bfa4e6d0fac9": {
          "model_module": "@jupyter-widgets/controls",
          "model_name": "HBoxModel",
          "model_module_version": "1.5.0",
          "state": {
            "_dom_classes": [],
            "_model_module": "@jupyter-widgets/controls",
            "_model_module_version": "1.5.0",
            "_model_name": "HBoxModel",
            "_view_count": null,
            "_view_module": "@jupyter-widgets/controls",
            "_view_module_version": "1.5.0",
            "_view_name": "HBoxView",
            "box_style": "",
            "children": [
              "IPY_MODEL_66af66f339754c59afe71dcdbe841ae0",
              "IPY_MODEL_ca3c6201f8784d5690e2609d29447598",
              "IPY_MODEL_e13038680ea141fdabc0dfa954d93848"
            ],
            "layout": "IPY_MODEL_ed2c60f9dc984d01a148515d12a11adf"
          }
        },
        "66af66f339754c59afe71dcdbe841ae0": {
          "model_module": "@jupyter-widgets/controls",
          "model_name": "HTMLModel",
          "model_module_version": "1.5.0",
          "state": {
            "_dom_classes": [],
            "_model_module": "@jupyter-widgets/controls",
            "_model_module_version": "1.5.0",
            "_model_name": "HTMLModel",
            "_view_count": null,
            "_view_module": "@jupyter-widgets/controls",
            "_view_module_version": "1.5.0",
            "_view_name": "HTMLView",
            "description": "",
            "description_tooltip": null,
            "layout": "IPY_MODEL_1e696dfc400542a7b8646195e2cf0e09",
            "placeholder": "​",
            "style": "IPY_MODEL_ff675c2a5a634b5e9a2dfcffcd362478",
            "value": "100%"
          }
        },
        "ca3c6201f8784d5690e2609d29447598": {
          "model_module": "@jupyter-widgets/controls",
          "model_name": "FloatProgressModel",
          "model_module_version": "1.5.0",
          "state": {
            "_dom_classes": [],
            "_model_module": "@jupyter-widgets/controls",
            "_model_module_version": "1.5.0",
            "_model_name": "FloatProgressModel",
            "_view_count": null,
            "_view_module": "@jupyter-widgets/controls",
            "_view_module_version": "1.5.0",
            "_view_name": "ProgressView",
            "bar_style": "success",
            "description": "",
            "description_tooltip": null,
            "layout": "IPY_MODEL_e4117375a82044bdb72e759a88a85bb7",
            "max": 64,
            "min": 0,
            "orientation": "horizontal",
            "style": "IPY_MODEL_65e9a9b52cd94a9a80339d013b578982",
            "value": 64
          }
        },
        "e13038680ea141fdabc0dfa954d93848": {
          "model_module": "@jupyter-widgets/controls",
          "model_name": "HTMLModel",
          "model_module_version": "1.5.0",
          "state": {
            "_dom_classes": [],
            "_model_module": "@jupyter-widgets/controls",
            "_model_module_version": "1.5.0",
            "_model_name": "HTMLModel",
            "_view_count": null,
            "_view_module": "@jupyter-widgets/controls",
            "_view_module_version": "1.5.0",
            "_view_name": "HTMLView",
            "description": "",
            "description_tooltip": null,
            "layout": "IPY_MODEL_aa36d7445d4143c889674a64fcf71e55",
            "placeholder": "​",
            "style": "IPY_MODEL_d4a84a36054943e99f6509cddca7379f",
            "value": " 64/64 [00:26&lt;00:00,  2.72it/s]"
          }
        },
        "ed2c60f9dc984d01a148515d12a11adf": {
          "model_module": "@jupyter-widgets/base",
          "model_name": "LayoutModel",
          "model_module_version": "1.2.0",
          "state": {
            "_model_module": "@jupyter-widgets/base",
            "_model_module_version": "1.2.0",
            "_model_name": "LayoutModel",
            "_view_count": null,
            "_view_module": "@jupyter-widgets/base",
            "_view_module_version": "1.2.0",
            "_view_name": "LayoutView",
            "align_content": null,
            "align_items": null,
            "align_self": null,
            "border": null,
            "bottom": null,
            "display": null,
            "flex": null,
            "flex_flow": null,
            "grid_area": null,
            "grid_auto_columns": null,
            "grid_auto_flow": null,
            "grid_auto_rows": null,
            "grid_column": null,
            "grid_gap": null,
            "grid_row": null,
            "grid_template_areas": null,
            "grid_template_columns": null,
            "grid_template_rows": null,
            "height": null,
            "justify_content": null,
            "justify_items": null,
            "left": null,
            "margin": null,
            "max_height": null,
            "max_width": null,
            "min_height": null,
            "min_width": null,
            "object_fit": null,
            "object_position": null,
            "order": null,
            "overflow": null,
            "overflow_x": null,
            "overflow_y": null,
            "padding": null,
            "right": null,
            "top": null,
            "visibility": null,
            "width": null
          }
        },
        "1e696dfc400542a7b8646195e2cf0e09": {
          "model_module": "@jupyter-widgets/base",
          "model_name": "LayoutModel",
          "model_module_version": "1.2.0",
          "state": {
            "_model_module": "@jupyter-widgets/base",
            "_model_module_version": "1.2.0",
            "_model_name": "LayoutModel",
            "_view_count": null,
            "_view_module": "@jupyter-widgets/base",
            "_view_module_version": "1.2.0",
            "_view_name": "LayoutView",
            "align_content": null,
            "align_items": null,
            "align_self": null,
            "border": null,
            "bottom": null,
            "display": null,
            "flex": null,
            "flex_flow": null,
            "grid_area": null,
            "grid_auto_columns": null,
            "grid_auto_flow": null,
            "grid_auto_rows": null,
            "grid_column": null,
            "grid_gap": null,
            "grid_row": null,
            "grid_template_areas": null,
            "grid_template_columns": null,
            "grid_template_rows": null,
            "height": null,
            "justify_content": null,
            "justify_items": null,
            "left": null,
            "margin": null,
            "max_height": null,
            "max_width": null,
            "min_height": null,
            "min_width": null,
            "object_fit": null,
            "object_position": null,
            "order": null,
            "overflow": null,
            "overflow_x": null,
            "overflow_y": null,
            "padding": null,
            "right": null,
            "top": null,
            "visibility": null,
            "width": null
          }
        },
        "ff675c2a5a634b5e9a2dfcffcd362478": {
          "model_module": "@jupyter-widgets/controls",
          "model_name": "DescriptionStyleModel",
          "model_module_version": "1.5.0",
          "state": {
            "_model_module": "@jupyter-widgets/controls",
            "_model_module_version": "1.5.0",
            "_model_name": "DescriptionStyleModel",
            "_view_count": null,
            "_view_module": "@jupyter-widgets/base",
            "_view_module_version": "1.2.0",
            "_view_name": "StyleView",
            "description_width": ""
          }
        },
        "e4117375a82044bdb72e759a88a85bb7": {
          "model_module": "@jupyter-widgets/base",
          "model_name": "LayoutModel",
          "model_module_version": "1.2.0",
          "state": {
            "_model_module": "@jupyter-widgets/base",
            "_model_module_version": "1.2.0",
            "_model_name": "LayoutModel",
            "_view_count": null,
            "_view_module": "@jupyter-widgets/base",
            "_view_module_version": "1.2.0",
            "_view_name": "LayoutView",
            "align_content": null,
            "align_items": null,
            "align_self": null,
            "border": null,
            "bottom": null,
            "display": null,
            "flex": null,
            "flex_flow": null,
            "grid_area": null,
            "grid_auto_columns": null,
            "grid_auto_flow": null,
            "grid_auto_rows": null,
            "grid_column": null,
            "grid_gap": null,
            "grid_row": null,
            "grid_template_areas": null,
            "grid_template_columns": null,
            "grid_template_rows": null,
            "height": null,
            "justify_content": null,
            "justify_items": null,
            "left": null,
            "margin": null,
            "max_height": null,
            "max_width": null,
            "min_height": null,
            "min_width": null,
            "object_fit": null,
            "object_position": null,
            "order": null,
            "overflow": null,
            "overflow_x": null,
            "overflow_y": null,
            "padding": null,
            "right": null,
            "top": null,
            "visibility": null,
            "width": null
          }
        },
        "65e9a9b52cd94a9a80339d013b578982": {
          "model_module": "@jupyter-widgets/controls",
          "model_name": "ProgressStyleModel",
          "model_module_version": "1.5.0",
          "state": {
            "_model_module": "@jupyter-widgets/controls",
            "_model_module_version": "1.5.0",
            "_model_name": "ProgressStyleModel",
            "_view_count": null,
            "_view_module": "@jupyter-widgets/base",
            "_view_module_version": "1.2.0",
            "_view_name": "StyleView",
            "bar_color": null,
            "description_width": ""
          }
        },
        "aa36d7445d4143c889674a64fcf71e55": {
          "model_module": "@jupyter-widgets/base",
          "model_name": "LayoutModel",
          "model_module_version": "1.2.0",
          "state": {
            "_model_module": "@jupyter-widgets/base",
            "_model_module_version": "1.2.0",
            "_model_name": "LayoutModel",
            "_view_count": null,
            "_view_module": "@jupyter-widgets/base",
            "_view_module_version": "1.2.0",
            "_view_name": "LayoutView",
            "align_content": null,
            "align_items": null,
            "align_self": null,
            "border": null,
            "bottom": null,
            "display": null,
            "flex": null,
            "flex_flow": null,
            "grid_area": null,
            "grid_auto_columns": null,
            "grid_auto_flow": null,
            "grid_auto_rows": null,
            "grid_column": null,
            "grid_gap": null,
            "grid_row": null,
            "grid_template_areas": null,
            "grid_template_columns": null,
            "grid_template_rows": null,
            "height": null,
            "justify_content": null,
            "justify_items": null,
            "left": null,
            "margin": null,
            "max_height": null,
            "max_width": null,
            "min_height": null,
            "min_width": null,
            "object_fit": null,
            "object_position": null,
            "order": null,
            "overflow": null,
            "overflow_x": null,
            "overflow_y": null,
            "padding": null,
            "right": null,
            "top": null,
            "visibility": null,
            "width": null
          }
        },
        "d4a84a36054943e99f6509cddca7379f": {
          "model_module": "@jupyter-widgets/controls",
          "model_name": "DescriptionStyleModel",
          "model_module_version": "1.5.0",
          "state": {
            "_model_module": "@jupyter-widgets/controls",
            "_model_module_version": "1.5.0",
            "_model_name": "DescriptionStyleModel",
            "_view_count": null,
            "_view_module": "@jupyter-widgets/base",
            "_view_module_version": "1.2.0",
            "_view_name": "StyleView",
            "description_width": ""
          }
        },
        "f780280bfa9c457d92516990d92feb02": {
          "model_module": "@jupyter-widgets/controls",
          "model_name": "HTMLModel",
          "model_module_version": "1.5.0",
          "state": {
            "_dom_classes": [],
            "_model_module": "@jupyter-widgets/controls",
            "_model_module_version": "1.5.0",
            "_model_name": "HTMLModel",
            "_view_count": null,
            "_view_module": "@jupyter-widgets/controls",
            "_view_module_version": "1.5.0",
            "_view_name": "HTMLView",
            "description": "",
            "description_tooltip": null,
            "layout": "IPY_MODEL_c028cab4843343519ce47b1cb5075bd4",
            "placeholder": "​",
            "style": "IPY_MODEL_cd5d290f57c145708fbaa743b5b3155b",
            "value": "<img src=\"data:image/gif;base64,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\" />"
          }
        },
        "c028cab4843343519ce47b1cb5075bd4": {
          "model_module": "@jupyter-widgets/base",
          "model_name": "LayoutModel",
          "model_module_version": "1.2.0",
          "state": {
            "_model_module": "@jupyter-widgets/base",
            "_model_module_version": "1.2.0",
            "_model_name": "LayoutModel",
            "_view_count": null,
            "_view_module": "@jupyter-widgets/base",
            "_view_module_version": "1.2.0",
            "_view_name": "LayoutView",
            "align_content": null,
            "align_items": null,
            "align_self": null,
            "border": null,
            "bottom": null,
            "display": null,
            "flex": null,
            "flex_flow": null,
            "grid_area": null,
            "grid_auto_columns": null,
            "grid_auto_flow": null,
            "grid_auto_rows": null,
            "grid_column": null,
            "grid_gap": null,
            "grid_row": null,
            "grid_template_areas": null,
            "grid_template_columns": null,
            "grid_template_rows": null,
            "height": null,
            "justify_content": null,
            "justify_items": null,
            "left": null,
            "margin": null,
            "max_height": null,
            "max_width": null,
            "min_height": null,
            "min_width": null,
            "object_fit": null,
            "object_position": null,
            "order": null,
            "overflow": null,
            "overflow_x": null,
            "overflow_y": null,
            "padding": null,
            "right": null,
            "top": null,
            "visibility": null,
            "width": null
          }
        },
        "cd5d290f57c145708fbaa743b5b3155b": {
          "model_module": "@jupyter-widgets/controls",
          "model_name": "DescriptionStyleModel",
          "model_module_version": "1.5.0",
          "state": {
            "_model_module": "@jupyter-widgets/controls",
            "_model_module_version": "1.5.0",
            "_model_name": "DescriptionStyleModel",
            "_view_count": null,
            "_view_module": "@jupyter-widgets/base",
            "_view_module_version": "1.2.0",
            "_view_name": "StyleView",
            "description_width": ""
          }
        }
      }
    }
  },
  "cells": [
    {
      "cell_type": "code",
      "execution_count": 1,
      "metadata": {
        "colab": {
          "base_uri": "https://localhost:8080/"
        },
        "id": "A07fkSE80Fr_",
        "outputId": "09057d5a-cd2f-44d8-fd94-b785d944c747"
      },
      "outputs": [
        {
          "output_type": "stream",
          "name": "stdout",
          "text": [
            "Cloning into 'shap-e'...\n",
            "remote: Enumerating objects: 336, done.\u001b[K\n",
            "remote: Counting objects: 100% (260/260), done.\u001b[K\n",
            "remote: Compressing objects: 100% (241/241), done.\u001b[K\n",
            "remote: Total 336 (delta 41), reused 217 (delta 18), pack-reused 76\u001b[K\n",
            "Receiving objects: 100% (336/336), 11.72 MiB | 12.44 MiB/s, done.\n",
            "Resolving deltas: 100% (44/44), done.\n"
          ]
        }
      ],
      "source": [
        "!git clone https://github.com/openai/shap-e"
      ]
    },
    {
      "cell_type": "code",
      "source": [
        "%cd shap-e"
      ],
      "metadata": {
        "colab": {
          "base_uri": "https://localhost:8080/"
        },
        "id": "eSUrOeSF0RC1",
        "outputId": "01c5685e-127a-4dd7-8bb8-ced765100fc5"
      },
      "execution_count": 2,
      "outputs": [
        {
          "output_type": "stream",
          "name": "stdout",
          "text": [
            "/content/shap-e\n"
          ]
        }
      ]
    },
    {
      "cell_type": "code",
      "source": [
        "!pip install -e ."
      ],
      "metadata": {
        "colab": {
          "base_uri": "https://localhost:8080/"
        },
        "id": "7-fLWame0qJw",
        "outputId": "77f8fc96-2d74-4aff-a1ae-ca746d2e4a94"
      },
      "execution_count": 3,
      "outputs": [
        {
          "output_type": "stream",
          "name": "stdout",
          "text": [
            "Obtaining file:///content/shap-e\n",
            "  Preparing metadata (setup.py) ... \u001b[?25l\u001b[?25hdone\n",
            "Collecting clip@ git+https://github.com/openai/CLIP.git (from shap-e==0.0.0)\n",
            "  Cloning https://github.com/openai/CLIP.git to /tmp/pip-install-4c6paudc/clip_e41f3a2ae3be4336b49ea8602c9a0ae1\n",
            "  Running command git clone --filter=blob:none --quiet https://github.com/openai/CLIP.git /tmp/pip-install-4c6paudc/clip_e41f3a2ae3be4336b49ea8602c9a0ae1\n",
            "  Resolved https://github.com/openai/CLIP.git to commit a1d071733d7111c9c014f024669f959182114e33\n",
            "  Preparing metadata (setup.py) ... \u001b[?25l\u001b[?25hdone\n",
            "Requirement already satisfied: filelock in /usr/local/lib/python3.10/dist-packages (from shap-e==0.0.0) (3.13.1)\n",
            "Requirement already satisfied: Pillow in /usr/local/lib/python3.10/dist-packages (from shap-e==0.0.0) (9.4.0)\n",
            "Requirement already satisfied: torch in /usr/local/lib/python3.10/dist-packages (from shap-e==0.0.0) (2.1.0+cu118)\n",
            "Collecting fire (from shap-e==0.0.0)\n",
            "  Downloading fire-0.5.0.tar.gz (88 kB)\n",
            "\u001b[2K     \u001b[90m━━━━━━━━━━━━━━━━━━━━━━━━━━━━━━━━━━━━━━━━\u001b[0m \u001b[32m88.3/88.3 kB\u001b[0m \u001b[31m2.9 MB/s\u001b[0m eta \u001b[36m0:00:00\u001b[0m\n",
            "\u001b[?25h  Preparing metadata (setup.py) ... \u001b[?25l\u001b[?25hdone\n",
            "Requirement already satisfied: humanize in /usr/local/lib/python3.10/dist-packages (from shap-e==0.0.0) (4.7.0)\n",
            "Requirement already satisfied: requests in /usr/local/lib/python3.10/dist-packages (from shap-e==0.0.0) (2.31.0)\n",
            "Requirement already satisfied: tqdm in /usr/local/lib/python3.10/dist-packages (from shap-e==0.0.0) (4.66.1)\n",
            "Requirement already satisfied: matplotlib in /usr/local/lib/python3.10/dist-packages (from shap-e==0.0.0) (3.7.1)\n",
            "Requirement already satisfied: scikit-image in /usr/local/lib/python3.10/dist-packages (from shap-e==0.0.0) (0.19.3)\n",
            "Requirement already satisfied: scipy in /usr/local/lib/python3.10/dist-packages (from shap-e==0.0.0) (1.11.4)\n",
            "Requirement already satisfied: numpy in /usr/local/lib/python3.10/dist-packages (from shap-e==0.0.0) (1.23.5)\n",
            "Collecting blobfile (from shap-e==0.0.0)\n",
            "  Downloading blobfile-2.1.1-py3-none-any.whl (73 kB)\n",
            "\u001b[2K     \u001b[90m━━━━━━━━━━━━━━━━━━━━━━━━━━━━━━━━━━━━━━━━\u001b[0m \u001b[32m73.7/73.7 kB\u001b[0m \u001b[31m9.0 MB/s\u001b[0m eta \u001b[36m0:00:00\u001b[0m\n",
            "\u001b[?25hCollecting pycryptodomex~=3.8 (from blobfile->shap-e==0.0.0)\n",
            "  Downloading pycryptodomex-3.19.0-cp35-abi3-manylinux_2_17_x86_64.manylinux2014_x86_64.whl (2.1 MB)\n",
            "\u001b[2K     \u001b[90m━━━━━━━━━━━━━━━━━━━━━━━━━━━━━━━━━━━━━━━━\u001b[0m \u001b[32m2.1/2.1 MB\u001b[0m \u001b[31m32.1 MB/s\u001b[0m eta \u001b[36m0:00:00\u001b[0m\n",
            "\u001b[?25hRequirement already satisfied: urllib3<3,>=1.25.3 in /usr/local/lib/python3.10/dist-packages (from blobfile->shap-e==0.0.0) (2.0.7)\n",
            "Requirement already satisfied: lxml~=4.9 in /usr/local/lib/python3.10/dist-packages (from blobfile->shap-e==0.0.0) (4.9.3)\n",
            "Collecting ftfy (from clip@ git+https://github.com/openai/CLIP.git->shap-e==0.0.0)\n",
            "  Downloading ftfy-6.1.3-py3-none-any.whl (53 kB)\n",
            "\u001b[2K     \u001b[90m━━━━━━━━━━━━━━━━━━━━━━━━━━━━━━━━━━━━━━━━\u001b[0m \u001b[32m53.4/53.4 kB\u001b[0m \u001b[31m5.2 MB/s\u001b[0m eta \u001b[36m0:00:00\u001b[0m\n",
            "\u001b[?25hRequirement already satisfied: regex in /usr/local/lib/python3.10/dist-packages (from clip@ git+https://github.com/openai/CLIP.git->shap-e==0.0.0) (2023.6.3)\n",
            "Requirement already satisfied: torchvision in /usr/local/lib/python3.10/dist-packages (from clip@ git+https://github.com/openai/CLIP.git->shap-e==0.0.0) (0.16.0+cu118)\n",
            "Requirement already satisfied: six in /usr/local/lib/python3.10/dist-packages (from fire->shap-e==0.0.0) (1.16.0)\n",
            "Requirement already satisfied: termcolor in /usr/local/lib/python3.10/dist-packages (from fire->shap-e==0.0.0) (2.3.0)\n",
            "Requirement already satisfied: contourpy>=1.0.1 in /usr/local/lib/python3.10/dist-packages (from matplotlib->shap-e==0.0.0) (1.2.0)\n",
            "Requirement already satisfied: cycler>=0.10 in /usr/local/lib/python3.10/dist-packages (from matplotlib->shap-e==0.0.0) (0.12.1)\n",
            "Requirement already satisfied: fonttools>=4.22.0 in /usr/local/lib/python3.10/dist-packages (from matplotlib->shap-e==0.0.0) (4.45.1)\n",
            "Requirement already satisfied: kiwisolver>=1.0.1 in /usr/local/lib/python3.10/dist-packages (from matplotlib->shap-e==0.0.0) (1.4.5)\n",
            "Requirement already satisfied: packaging>=20.0 in /usr/local/lib/python3.10/dist-packages (from matplotlib->shap-e==0.0.0) (23.2)\n",
            "Requirement already satisfied: pyparsing>=2.3.1 in /usr/local/lib/python3.10/dist-packages (from matplotlib->shap-e==0.0.0) (3.1.1)\n",
            "Requirement already satisfied: python-dateutil>=2.7 in /usr/local/lib/python3.10/dist-packages (from matplotlib->shap-e==0.0.0) (2.8.2)\n",
            "Requirement already satisfied: charset-normalizer<4,>=2 in /usr/local/lib/python3.10/dist-packages (from requests->shap-e==0.0.0) (3.3.2)\n",
            "Requirement already satisfied: idna<4,>=2.5 in /usr/local/lib/python3.10/dist-packages (from requests->shap-e==0.0.0) (3.6)\n",
            "Requirement already satisfied: certifi>=2017.4.17 in /usr/local/lib/python3.10/dist-packages (from requests->shap-e==0.0.0) (2023.11.17)\n",
            "Requirement already satisfied: networkx>=2.2 in /usr/local/lib/python3.10/dist-packages (from scikit-image->shap-e==0.0.0) (3.2.1)\n",
            "Requirement already satisfied: imageio>=2.4.1 in /usr/local/lib/python3.10/dist-packages (from scikit-image->shap-e==0.0.0) (2.31.6)\n",
            "Requirement already satisfied: tifffile>=2019.7.26 in /usr/local/lib/python3.10/dist-packages (from scikit-image->shap-e==0.0.0) (2023.9.26)\n",
            "Requirement already satisfied: PyWavelets>=1.1.1 in /usr/local/lib/python3.10/dist-packages (from scikit-image->shap-e==0.0.0) (1.5.0)\n",
            "Requirement already satisfied: typing-extensions in /usr/local/lib/python3.10/dist-packages (from torch->shap-e==0.0.0) (4.5.0)\n",
            "Requirement already satisfied: sympy in /usr/local/lib/python3.10/dist-packages (from torch->shap-e==0.0.0) (1.12)\n",
            "Requirement already satisfied: jinja2 in /usr/local/lib/python3.10/dist-packages (from torch->shap-e==0.0.0) (3.1.2)\n",
            "Requirement already satisfied: fsspec in /usr/local/lib/python3.10/dist-packages (from torch->shap-e==0.0.0) (2023.6.0)\n",
            "Requirement already satisfied: triton==2.1.0 in /usr/local/lib/python3.10/dist-packages (from torch->shap-e==0.0.0) (2.1.0)\n",
            "Requirement already satisfied: wcwidth<0.3.0,>=0.2.12 in /usr/local/lib/python3.10/dist-packages (from ftfy->clip@ git+https://github.com/openai/CLIP.git->shap-e==0.0.0) (0.2.12)\n",
            "Requirement already satisfied: MarkupSafe>=2.0 in /usr/local/lib/python3.10/dist-packages (from jinja2->torch->shap-e==0.0.0) (2.1.3)\n",
            "Requirement already satisfied: mpmath>=0.19 in /usr/local/lib/python3.10/dist-packages (from sympy->torch->shap-e==0.0.0) (1.3.0)\n",
            "Building wheels for collected packages: clip, fire\n",
            "  Building wheel for clip (setup.py) ... \u001b[?25l\u001b[?25hdone\n",
            "  Created wheel for clip: filename=clip-1.0-py3-none-any.whl size=1369497 sha256=6e646cddb215d4cb8517be839b79607480d1da1389347ff87d1399a1ddd6b450\n",
            "  Stored in directory: /tmp/pip-ephem-wheel-cache-kwxejrvs/wheels/da/2b/4c/d6691fa9597aac8bb85d2ac13b112deb897d5b50f5ad9a37e4\n",
            "  Building wheel for fire (setup.py) ... \u001b[?25l\u001b[?25hdone\n",
            "  Created wheel for fire: filename=fire-0.5.0-py2.py3-none-any.whl size=116934 sha256=cee03a628e5193b238e219cda1010a26b7a44b2b5f3582969399b7e584bbbe2f\n",
            "  Stored in directory: /root/.cache/pip/wheels/90/d4/f7/9404e5db0116bd4d43e5666eaa3e70ab53723e1e3ea40c9a95\n",
            "Successfully built clip fire\n",
            "Installing collected packages: pycryptodomex, ftfy, fire, blobfile, clip, shap-e\n",
            "  Running setup.py develop for shap-e\n",
            "Successfully installed blobfile-2.1.1 clip-1.0 fire-0.5.0 ftfy-6.1.3 pycryptodomex-3.19.0 shap-e-0.0.0\n"
          ]
        }
      ]
    },
    {
      "cell_type": "code",
      "source": [
        "import torch\n",
        "\n",
        "from shap_e.diffusion.sample import sample_latents\n",
        "from shap_e.diffusion.gaussian_diffusion import diffusion_from_config\n",
        "from shap_e.models.download import load_model, load_config\n",
        "from shap_e.util.notebooks import create_pan_cameras, decode_latent_images, gif_widget, decode_latent_mesh\n"
      ],
      "metadata": {
        "id": "0m-XcU8i0WmR"
      },
      "execution_count": 15,
      "outputs": []
    },
    {
      "cell_type": "code",
      "source": [
        "device = torch.device('cuda' if torch.cuda.is_available() else 'cpu')\n"
      ],
      "metadata": {
        "id": "DoZyEOAv0i5A"
      },
      "execution_count": 5,
      "outputs": []
    },
    {
      "cell_type": "code",
      "source": [
        "xm = load_model('transmitter', device=device)\n",
        "model = load_model('text300M', device=device)\n",
        "diffusion = diffusion_from_config(load_config('diffusion'))"
      ],
      "metadata": {
        "colab": {
          "base_uri": "https://localhost:8080/",
          "height": 98,
          "referenced_widgets": [
            "45e0ca3ac09145baa3cb6ab204ca35b8",
            "b86ae56f1adb4ab9933efd184f2f427e",
            "4aefd0f60b2942e4ba5ddeb6977c1a2a",
            "928524a0e26b4b0da04fcc132d291ea3",
            "2ee73d8b6459494687d86c615d41042c",
            "0b6c599f1017447188b3c6b080c88674",
            "04920addfb2941a58b503a390498a03e",
            "3bb225fcc98d469fb396840d98dd95cb",
            "e4ce10e3661e416b80ebcd76b423458b",
            "c297edd91304459eac498458caf92523",
            "19edb09510544910a6f8cf8e944d6d92",
            "d50b136efb28492ebc248030a9c05aa8",
            "59b66794674a402687db28515674b2b3",
            "579d373484944c5a8b68bff6aad78d71",
            "98f750249bad4f7d92aee19e053c2039",
            "42c813c037fb4ca693004b477d218c66",
            "72792aff25664c2a9f71d7a4858b87a4",
            "6bc40239debd4112bc4c4c6d602b1061",
            "ed23fbf95f69423bad06fc5b682840fb",
            "9a298f2dee41488489688c3a7197e6af",
            "e6a9c74b58dc4eedb8ead5fb0e8fb070",
            "e9daa6151cd5450da82c6da72887a5e3"
          ]
        },
        "id": "RybJQ3160yFe",
        "outputId": "90873411-e862-4541-b57f-d985ebe1d5fb"
      },
      "execution_count": 6,
      "outputs": [
        {
          "output_type": "display_data",
          "data": {
            "text/plain": [
              "  0%|          | 0.00/1.78G [00:00<?, ?iB/s]"
            ],
            "application/vnd.jupyter.widget-view+json": {
              "version_major": 2,
              "version_minor": 0,
              "model_id": "45e0ca3ac09145baa3cb6ab204ca35b8"
            }
          },
          "metadata": {}
        },
        {
          "output_type": "stream",
          "name": "stderr",
          "text": [
            "100%|███████████████████████████████████████| 890M/890M [00:18<00:00, 51.8MiB/s]\n"
          ]
        },
        {
          "output_type": "display_data",
          "data": {
            "text/plain": [
              "  0%|          | 0.00/1.26G [00:00<?, ?iB/s]"
            ],
            "application/vnd.jupyter.widget-view+json": {
              "version_major": 2,
              "version_minor": 0,
              "model_id": "d50b136efb28492ebc248030a9c05aa8"
            }
          },
          "metadata": {}
        }
      ]
    },
    {
      "cell_type": "code",
      "source": [
        "def generate_3d(prompt_, size_, render_mode_ ='nerf'): # you can change render_mode_ to 'stf'or 'nerf'\n",
        "\n",
        "    batch_size = 1\n",
        "    guidance_scale = 15.0\n",
        "    prompt = prompt_\n",
        "\n",
        "    latents = sample_latents(\n",
        "        batch_size=batch_size,\n",
        "        model=model,\n",
        "        diffusion=diffusion,\n",
        "        guidance_scale=guidance_scale,\n",
        "        model_kwargs=dict(texts=[prompt] * batch_size),\n",
        "        progress=True,\n",
        "        clip_denoised=True,\n",
        "        use_fp16=True,\n",
        "        use_karras=True,\n",
        "        karras_steps=64,\n",
        "        sigma_min=1e-3,\n",
        "        sigma_max=160,\n",
        "        s_churn=0)\n",
        "    render_mode = render_mode_\n",
        "    size = size_ # size = size of the renders --> higher values take longer to render\n",
        "    cameras = create_pan_cameras(size, device)\n",
        "    for i, latent in enumerate(latents):\n",
        "        images = decode_latent_images(xm, latent, cameras, rendering_mode=render_mode)\n",
        "        display(gif_widget(images))\n",
        "\n",
        "    # Saving the latents as meshes.\n",
        "    for i, latent in enumerate(latents):\n",
        "      with open(f'example_mesh_{i}.ply', 'wb') as f:\n",
        "        decode_latent_mesh(xm, latent).tri_mesh().write_ply(f)\n",
        "\n"
      ],
      "metadata": {
        "id": "Ye90kA6KeYjB"
      },
      "execution_count": 12,
      "outputs": []
    },
    {
      "cell_type": "code",
      "source": [
        "generate_3d('an airplane that looks like a banana', 64)"
      ],
      "metadata": {
        "id": "y64KwrNXHJKJ",
        "outputId": "3dea7f97-90de-497c-99f7-187feb8062fc",
        "colab": {
          "base_uri": "https://localhost:8080/",
          "height": 196,
          "referenced_widgets": [
            "b33322dd770d4b2aba83bfa4e6d0fac9",
            "66af66f339754c59afe71dcdbe841ae0",
            "ca3c6201f8784d5690e2609d29447598",
            "e13038680ea141fdabc0dfa954d93848",
            "ed2c60f9dc984d01a148515d12a11adf",
            "1e696dfc400542a7b8646195e2cf0e09",
            "ff675c2a5a634b5e9a2dfcffcd362478",
            "e4117375a82044bdb72e759a88a85bb7",
            "65e9a9b52cd94a9a80339d013b578982",
            "aa36d7445d4143c889674a64fcf71e55",
            "d4a84a36054943e99f6509cddca7379f",
            "f780280bfa9c457d92516990d92feb02",
            "c028cab4843343519ce47b1cb5075bd4",
            "cd5d290f57c145708fbaa743b5b3155b"
          ]
        }
      },
      "execution_count": 16,
      "outputs": [
        {
          "output_type": "display_data",
          "data": {
            "text/plain": [
              "  0%|          | 0/64 [00:00<?, ?it/s]"
            ],
            "application/vnd.jupyter.widget-view+json": {
              "version_major": 2,
              "version_minor": 0,
              "model_id": "b33322dd770d4b2aba83bfa4e6d0fac9"
            }
          },
          "metadata": {}
        },
        {
          "output_type": "display_data",
          "data": {
            "text/plain": [
              "HTML(value='<img src=\"data:image/gif;base64,R0lGODlhQABAAIcAAPv2APr1APHwAPDvAO/vAO7vAO7uAO3uAO7tAOztAOzsAOvsAO…"
            ],
            "application/vnd.jupyter.widget-view+json": {
              "version_major": 2,
              "version_minor": 0,
              "model_id": "f780280bfa9c457d92516990d92feb02"
            }
          },
          "metadata": {}
        },
        {
          "output_type": "stream",
          "name": "stderr",
          "text": [
            "/content/shap-e/shap_e/models/stf/renderer.py:286: UserWarning: exception rendering with PyTorch3D: No module named 'pytorch3d'\n",
            "  warnings.warn(f\"exception rendering with PyTorch3D: {exc}\")\n",
            "/content/shap-e/shap_e/models/stf/renderer.py:287: UserWarning: falling back on native PyTorch renderer, which does not support full gradients\n",
            "  warnings.warn(\n"
          ]
        }
      ]
    },
    {
      "cell_type": "code",
      "source": [
        "# Example of saving the latents as meshes.\n",
        "from shap_e.util.notebooks import decode_latent_mesh\n",
        "\n",
        "for i, latent in enumerate(latents):\n",
        "    with open(f'example_mesh_{i}.ply', 'wb') as f:\n",
        "        decode_latent_mesh(xm, latent).tri_mesh().write_ply(f)"
      ],
      "metadata": {
        "colab": {
          "base_uri": "https://localhost:8080/"
        },
        "id": "zCWLAsNuehAU",
        "outputId": "646e54a5-a026-40b2-c378-39cc300ebe81"
      },
      "execution_count": null,
      "outputs": [
        {
          "output_type": "stream",
          "name": "stderr",
          "text": [
            "/content/shap-e/shap_e/models/stf/renderer.py:286: UserWarning: exception rendering with PyTorch3D: No module named 'pytorch3d'\n",
            "  warnings.warn(f\"exception rendering with PyTorch3D: {exc}\")\n",
            "/content/shap-e/shap_e/models/stf/renderer.py:287: UserWarning: falling back on native PyTorch renderer, which does not support full gradients\n",
            "  warnings.warn(\n"
          ]
        }
      ]
    },
    {
      "cell_type": "code",
      "source": [],
      "metadata": {
        "id": "pWb6eNF2f1aJ"
      },
      "execution_count": null,
      "outputs": []
    }
  ]
}